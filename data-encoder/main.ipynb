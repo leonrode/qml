{
 "cells": [
  {
   "cell_type": "markdown",
   "id": "630d8ab1",
   "metadata": {},
   "source": [
    "# Data Encoding\n",
    "\n",
    "This notebook contains the code related to the data-encoding project. More details are in the `README.md`. Much of the below language is taken directly from the authors of the paper given in the `README.md`.\n",
    "\n",
    "## Notation\n",
    "\n",
    "$D=(x^d, y^d)_{d=1}^m$ represents a classical data set, where $m$ is the number of samples, $x^d \\in \\mathbb{R}^N$ is an $N$-dimensional input data point (sample) and $y^d$ is the label for the corresponding sample."
   ]
  },
  {
   "cell_type": "markdown",
   "id": "68606cc0",
   "metadata": {},
   "source": [
    "For the purposes of this notebook, we will encode the following 4-dimensional data point. \n",
    "\n",
    "$$x = [0.1, 0.3, 0.2, -0.5]$$"
   ]
  },
  {
   "cell_type": "code",
   "execution_count": 1,
   "id": "abfaa238",
   "metadata": {},
   "outputs": [],
   "source": [
    "x = [0.1, 0.3, 0.2, -0.5]"
   ]
  },
  {
   "cell_type": "code",
   "execution_count": 2,
   "id": "810f759e",
   "metadata": {},
   "outputs": [],
   "source": [
    "def normalize_sample(sample):\n",
    "    mag = sum(abs(x) ** 2 for x in sample) ** 0.5\n",
    "    return [x / mag for x in sample]"
   ]
  },
  {
   "cell_type": "code",
   "execution_count": 3,
   "id": "5fa7e519",
   "metadata": {},
   "outputs": [],
   "source": [
    "import pennylane as qml\n",
    "import numpy as np"
   ]
  },
  {
   "cell_type": "markdown",
   "id": "35b7b0e7",
   "metadata": {},
   "source": [
    "## Angle encoding\n",
    "\n",
    "### Simple Angle Encoding\n",
    "\n",
    "For a data point (sample) $x^d$, the angle encoding method uses rotation gates ($R_x$ and $R_y$) whose angles correspond to the fields of $x^d$.\n",
    "\n",
    "$x^d$ is encoded into $$\\ket{\\psi^d}=\\bigotimes_{j=1}^{N} \\ket{\\psi_j^d}$$\n",
    "\n",
    "where $\\ket{\\psi_j}$ is given by $$\\ket{\\psi_j} = R_x(x_j)\\ket{0} = \\cos \\frac{x_j}{2} \\ket{0} - i \\sin \\frac{x_j}{2} \\ket{1}$$ or \n",
    "\n",
    "$$\\ket{\\psi_j} = R_y(x_j)\\ket{0} = \\cos \\frac{x_j}{2} \\ket{0} + \\sin \\frac{x_j}{2} \\ket{1}$$\n",
    "\n",
    "depending on if $R_x$ or $R_y$ is used.\n",
    "\n",
    "\n",
    "\n"
   ]
  },
  {
   "cell_type": "markdown",
   "id": "2d80d9d0",
   "metadata": {},
   "source": [
    "So for each $x_j$ we apply a rotation gate onto a qubit. Thus we need 4-qubits to encode this state."
   ]
  },
  {
   "cell_type": "code",
   "execution_count": 4,
   "id": "2820761a",
   "metadata": {},
   "outputs": [],
   "source": [
    "dev = qml.device(\"default.qubit\", wires=4)"
   ]
  },
  {
   "cell_type": "code",
   "execution_count": 5,
   "id": "9b93361b",
   "metadata": {},
   "outputs": [],
   "source": [
    "@qml.qnode(dev)\n",
    "def simple_angle_encoding(x, rotator=\"RX\"):\n",
    "    op = qml.RY if rotator == \"RY\" else qml.RX\n",
    "    for i in range(len(x)):\n",
    "        op(x[i], wires=i)\n",
    "    \n",
    "    return qml.state()"
   ]
  },
  {
   "cell_type": "markdown",
   "id": "a9a68544",
   "metadata": {},
   "source": [
    "Testing the Simple Angle Encoding function with $R_Y$:"
   ]
  },
  {
   "cell_type": "code",
   "execution_count": 6,
   "id": "e206ddc1",
   "metadata": {},
   "outputs": [
    {
     "name": "stdout",
     "output_type": "stream",
     "text": [
      "0: ──RY(0.10)──┤  State\n",
      "1: ──RY(0.30)──┤  State\n",
      "2: ──RY(0.20)──┤  State\n",
      "3: ──RY(-0.50)─┤  State\n"
     ]
    }
   ],
   "source": [
    "print(qml.draw(simple_angle_encoding)(x, rotator=\"RY\"))"
   ]
  },
  {
   "cell_type": "code",
   "execution_count": 7,
   "id": "e19ca67f",
   "metadata": {},
   "outputs": [
    {
     "data": {
      "text/plain": [
       "array([ 9.52055097e-01+0.j, -2.43099578e-01+0.j,  9.55241360e-02+0.j,\n",
       "       -2.43913164e-02+0.j,  1.43889055e-01+0.j, -3.67409077e-02+0.j,\n",
       "        1.44370611e-02+0.j, -3.68638692e-03+0.j,  4.76424635e-02+0.j,\n",
       "       -1.21651182e-02+0.j,  4.78019096e-03+0.j, -1.22058314e-03+0.j,\n",
       "        7.20045412e-03+0.j, -1.83857779e-03+0.j,  7.22455203e-04+0.j,\n",
       "       -1.84473099e-04+0.j])"
      ]
     },
     "execution_count": 7,
     "metadata": {},
     "output_type": "execute_result"
    }
   ],
   "source": [
    "simple_angle_encoding(x, rotator=\"RY\")"
   ]
  },
  {
   "cell_type": "markdown",
   "id": "4763664d",
   "metadata": {},
   "source": [
    "Now with $R_X$"
   ]
  },
  {
   "cell_type": "code",
   "execution_count": 8,
   "id": "3a54d452",
   "metadata": {},
   "outputs": [
    {
     "name": "stdout",
     "output_type": "stream",
     "text": [
      "0: ──RX(0.10)──┤  State\n",
      "1: ──RX(0.30)──┤  State\n",
      "2: ──RX(0.20)──┤  State\n",
      "3: ──RX(-0.50)─┤  State\n"
     ]
    }
   ],
   "source": [
    "print(qml.draw(simple_angle_encoding)(x, rotator=\"RX\"))"
   ]
  },
  {
   "cell_type": "code",
   "execution_count": 9,
   "id": "0fd33c25",
   "metadata": {},
   "outputs": [
    {
     "data": {
      "text/plain": [
       "array([ 9.52055097e-01+0.j        ,  0.00000000e+00+0.24309958j,\n",
       "        0.00000000e+00-0.09552414j,  2.43913164e-02+0.j        ,\n",
       "        0.00000000e+00-0.14388905j,  3.67409077e-02+0.j        ,\n",
       "       -1.44370611e-02+0.j        ,  0.00000000e+00-0.00368639j,\n",
       "        0.00000000e+00-0.04764246j,  1.21651182e-02+0.j        ,\n",
       "       -4.78019096e-03+0.j        ,  0.00000000e+00-0.00122058j,\n",
       "       -7.20045412e-03+0.j        ,  0.00000000e+00-0.00183858j,\n",
       "        0.00000000e+00+0.00072246j, -1.84473099e-04+0.j        ])"
      ]
     },
     "execution_count": 9,
     "metadata": {},
     "output_type": "execute_result"
    }
   ],
   "source": [
    "simple_angle_encoding(x, rotator=\"RX\")"
   ]
  },
  {
   "cell_type": "markdown",
   "id": "fce3df9d",
   "metadata": {},
   "source": [
    "### $\\frac{\\pi}{4}$-Angle encoding\n",
    "\n",
    "This encoding method uses the Hadamard operator and a unitary given by the following\n",
    "\n",
    "$$U(x) = \\begin{pmatrix}\n",
    "\\cos (\\frac{\\pi}{4} - x) & \\sin(\\frac{\\pi}{4} - x) \\\\ \n",
    "-\\sin(\\frac{\\pi}{4} - x) & \\cos(\\frac{\\pi}{4} - x)\n",
    "\n",
    "\n",
    "\\end{pmatrix}$$\n",
    "\n",
    "where each qubit $\\ket{\\psi_j}=U(x_j)H\\ket{0}$. The result of this is given by $\\ket{\\psi_j} = \\cos x_j \\ket{0} + \\sin x_j \\ket{1}$, in which the input to the trigonometric functions are halved in contrast to the Simple Angle Encoding method that uses $R_Y$."
   ]
  },
  {
   "cell_type": "code",
   "execution_count": 10,
   "id": "98d7c70c",
   "metadata": {},
   "outputs": [],
   "source": [
    "def _construct_Uj(xj):\n",
    "    return [\n",
    "            [np.cos(np.pi/4 - xj), np.sin(np.pi/4 - xj)],\n",
    "            [-np.sin(np.pi/4 - xj), np.cos(np.pi/4 - xj)]\n",
    "        ]\n",
    "\n",
    "@qml.qnode(dev)\n",
    "def pi_4_angle_encoding(x):\n",
    "    for i in range(len(x)):\n",
    "        qml.Hadamard(i)\n",
    "        qml.QubitUnitary(_construct_Uj(x[i]), wires=i)\n",
    "\n",
    "    return qml.state()"
   ]
  },
  {
   "cell_type": "code",
   "execution_count": 11,
   "id": "b52e9972",
   "metadata": {},
   "outputs": [
    {
     "name": "stdout",
     "output_type": "stream",
     "text": [
      "0: ──H──U(M0)─┤  State\n",
      "1: ──H──U(M1)─┤  State\n",
      "2: ──H──U(M2)─┤  State\n",
      "3: ──H──U(M3)─┤  State\n",
      "\n",
      "M0 = \n",
      "[[ 0.77416708  0.63298131]\n",
      " [-0.63298131  0.77416708]]\n",
      "M1 = \n",
      "[[ 0.88448925  0.46656057]\n",
      " [-0.46656057  0.88448925]]\n",
      "M2 = \n",
      "[[ 0.83349215  0.55253129]\n",
      " [-0.55253129  0.83349215]]\n",
      "M3 = \n",
      "[[ 0.28153953  0.95954963]\n",
      " [-0.95954963  0.28153953]]\n"
     ]
    }
   ],
   "source": [
    "print(qml.draw(pi_4_angle_encoding)(x))"
   ]
  },
  {
   "cell_type": "code",
   "execution_count": 12,
   "id": "70b87653",
   "metadata": {},
   "outputs": [
    {
     "data": {
      "text/plain": [
       "array([ 0.81756978+0.j, -0.44664041+0.j,  0.1657296 +0.j, -0.09053849+0.j,\n",
       "        0.25290397+0.j, -0.13816207+0.j,  0.05126617+0.j, -0.02800684+0.j,\n",
       "        0.0820306 +0.j, -0.04481352+0.j,  0.01662842+0.j, -0.00908415+0.j,\n",
       "        0.02537504+0.j, -0.01386245+0.j,  0.00514377+0.j, -0.00281006+0.j])"
      ]
     },
     "execution_count": 12,
     "metadata": {},
     "output_type": "execute_result"
    }
   ],
   "source": [
    "pi_4_angle_encoding(x)"
   ]
  },
  {
   "cell_type": "markdown",
   "id": "aebfb981",
   "metadata": {},
   "source": [
    "### Entangled Angle Encoding\n",
    "\n",
    "Entangled Angle Encoding builds on Simple Angle Encoding by adding CNOT between each pair of adjacent qubits."
   ]
  },
  {
   "cell_type": "code",
   "execution_count": 13,
   "id": "06922281",
   "metadata": {},
   "outputs": [],
   "source": [
    "def _simple_angle_encoding_no_return(x, rotator=\"RX\"):\n",
    "    op = qml.RY if rotator == \"RY\" else qml.RX\n",
    "    for i in range(len(x)):\n",
    "        op(x[i], wires=i)\n",
    "\n",
    "\n",
    "\n",
    "@qml.qnode(dev)\n",
    "def entangled_angle_encoding(x, rotator=\"RX\"):\n",
    "    _simple_angle_encoding_no_return(x, rotator)\n",
    "    for i in range(len(x) - 1):\n",
    "        qml.CNOT(wires=[i, i + 1])\n",
    "    \n",
    "    qml.CNOT(wires=[len(x) - 1, 0])\n",
    "\n",
    "    return qml.state()"
   ]
  },
  {
   "cell_type": "code",
   "execution_count": 14,
   "id": "2b868294",
   "metadata": {},
   "outputs": [
    {
     "name": "stdout",
     "output_type": "stream",
     "text": [
      "0: ──RX(0.10)──╭●───────╭X─┤  State\n",
      "1: ──RX(0.30)──╰X─╭●────│──┤  State\n",
      "2: ──RX(0.20)─────╰X─╭●─│──┤  State\n",
      "3: ──RX(-0.50)───────╰X─╰●─┤  State\n"
     ]
    }
   ],
   "source": [
    "print(qml.draw(entangled_angle_encoding)(x))"
   ]
  },
  {
   "cell_type": "code",
   "execution_count": 15,
   "id": "5619bac0",
   "metadata": {},
   "outputs": [
    {
     "data": {
      "text/plain": [
       "array([ 9.52055097e-01+0.j        ,  0.00000000e+00-0.00183858j,\n",
       "        2.43913164e-02+0.j        ,  0.00000000e+00+0.00072246j,\n",
       "       -1.44370611e-02+0.j        ,  0.00000000e+00-0.00122058j,\n",
       "        3.67409077e-02+0.j        ,  0.00000000e+00-0.04764246j,\n",
       "       -7.20045412e-03+0.j        ,  0.00000000e+00+0.24309958j,\n",
       "       -1.84473099e-04+0.j        ,  0.00000000e+00-0.09552414j,\n",
       "       -4.78019096e-03+0.j        ,  0.00000000e+00-0.00368639j,\n",
       "        1.21651182e-02+0.j        ,  0.00000000e+00-0.14388905j])"
      ]
     },
     "execution_count": 15,
     "metadata": {},
     "output_type": "execute_result"
    }
   ],
   "source": [
    "entangled_angle_encoding(x)"
   ]
  },
  {
   "cell_type": "code",
   "execution_count": 16,
   "id": "077e2947",
   "metadata": {},
   "outputs": [
    {
     "name": "stdout",
     "output_type": "stream",
     "text": [
      "0: ──RY(0.10)──╭●───────╭X─┤  State\n",
      "1: ──RY(0.30)──╰X─╭●────│──┤  State\n",
      "2: ──RY(0.20)─────╰X─╭●─│──┤  State\n",
      "3: ──RY(-0.50)───────╰X─╰●─┤  State\n"
     ]
    }
   ],
   "source": [
    "print(qml.draw(entangled_angle_encoding)(x, rotator=\"RY\"))"
   ]
  },
  {
   "cell_type": "code",
   "execution_count": 17,
   "id": "5937fc1f",
   "metadata": {},
   "outputs": [
    {
     "data": {
      "text/plain": [
       "array([ 9.52055097e-01+0.j, -1.83857779e-03+0.j, -2.43913164e-02+0.j,\n",
       "        7.22455203e-04+0.j,  1.44370611e-02+0.j, -1.22058314e-03+0.j,\n",
       "       -3.67409077e-02+0.j,  4.76424635e-02+0.j,  7.20045412e-03+0.j,\n",
       "       -2.43099578e-01+0.j, -1.84473099e-04+0.j,  9.55241360e-02+0.j,\n",
       "        4.78019096e-03+0.j, -3.68638692e-03+0.j, -1.21651182e-02+0.j,\n",
       "        1.43889055e-01+0.j])"
      ]
     },
     "execution_count": 17,
     "metadata": {},
     "output_type": "execute_result"
    }
   ],
   "source": [
    "entangled_angle_encoding(x, rotator=\"RY\")"
   ]
  },
  {
   "cell_type": "markdown",
   "id": "29e8e931",
   "metadata": {},
   "source": []
  },
  {
   "cell_type": "markdown",
   "id": "9d030eba",
   "metadata": {},
   "source": [
    "## Amplitude Encoding\n",
    "\n",
    "In amplitude encoding we encode a sample $x^D$ whose features are normalized (such that $\\sum_{i=1}^N |x_i^D|^2 = 1$), and encoded in $n$ qubits ($N=2^n$) in the form of the amplitude vector:\n",
    "\n",
    "$$\n",
    "\\begin{pmatrix}\n",
    "x_0 \\\\\n",
    "x_1 \\\\\n",
    "\\vdots \\\\\n",
    "x_N\n",
    "\\end{pmatrix} = \\sum_{i=1}^N x_i \\ket{i}\n",
    "$$\n",
    "\n",
    "where $\\ket{i}$ is the $i$-th computational basis state."
   ]
  },
  {
   "cell_type": "markdown",
   "id": "007435aa",
   "metadata": {},
   "source": [
    "We explore the divide-and-conquer method described in the `README.md` paper. In this method, we create a binary tree whose leaves are the features $x_i$ and whose root is the value 1, and whose intermediate nodes contain the sum of the square amplitudes of the child nodes. This method comes from Algorithm 1 of the paper [A divide-and-conquer algorithm for quantum state preparation](https://arxiv.org/pdf/2008.01511) of I. Araujo et. al."
   ]
  },
  {
   "cell_type": "markdown",
   "id": "98294eea",
   "metadata": {},
   "source": [
    "The following script creates a binary tree of a normalized sample $X^D$ containing $N$ features. The tree will have depth $\\log_2(N)$."
   ]
  },
  {
   "cell_type": "code",
   "execution_count": 18,
   "id": "00d787f5",
   "metadata": {},
   "outputs": [],
   "source": [
    "import numpy as np\n",
    "\n",
    "class Node:\n",
    "    def __init__(self, value, left=None, right=None):\n",
    "        self.value = value\n",
    "        self.left = left\n",
    "        self.right = right\n",
    "\n",
    "    def __repr__(self):\n",
    "        return f\"Node(value={self.value}, left={self.left}, right={self.right})\"\n",
    "\n",
    "def build_tree(sample):\n",
    "    # we start bottom up, with the leaves being the entries of the sample\n",
    "    queue = [Node(value) for value in sample]\n",
    "\n",
    "    while len(queue) > 2:\n",
    "        left = queue.pop(0)\n",
    "        right = queue.pop(0)\n",
    "\n",
    "        parent = Node(np.sqrt(abs(left.value) ** 2 + abs(right.value) ** 2), left, right)\n",
    "        queue.append(parent)\n",
    "    \n",
    "    root = Node(np.sqrt(abs(queue[0].value) ** 2 + abs(queue[1].value) ** 2), queue[0], queue[1])\n",
    "    return root\n",
    "\n",
    "def print_tree(root, level=0):\n",
    "    if root is None:\n",
    "        return\n",
    "    print(f\"{'      ' * level}{root.value}\")\n",
    "    print_tree(root.left, level + 1)\n",
    "    print_tree(root.right, level + 1)"
   ]
  },
  {
   "cell_type": "code",
   "execution_count": 19,
   "id": "7900e822",
   "metadata": {},
   "outputs": [
    {
     "name": "stdout",
     "output_type": "stream",
     "text": [
      "1.0\n",
      "      0.5063696835418333\n",
      "            0.16012815380508713\n",
      "            0.48038446141526137\n",
      "      0.8623164985025763\n",
      "            0.32025630761017426\n",
      "            -0.8006407690254357\n"
     ]
    }
   ],
   "source": [
    "print_tree(build_tree(normalize_sample(x)))"
   ]
  },
  {
   "cell_type": "markdown",
   "id": "600fcc70",
   "metadata": {},
   "source": [
    "From this tree we compute the angles needed for the $R_Y$ gates we use to prepare the state."
   ]
  },
  {
   "cell_type": "code",
   "execution_count": 20,
   "id": "c3d5739f",
   "metadata": {},
   "outputs": [
    {
     "name": "stdout",
     "output_type": "stream",
     "text": [
      "0.9999999999999998\n",
      "      0.5477225575051661\n",
      "            0.31622776601683794\n",
      "                  0.17320508075688773\n",
      "                  0.2645751311064591\n",
      "            0.4472135954999579\n",
      "                  0.3872983346207417\n",
      "                  0.22360679774997896\n",
      "      0.8366600265340753\n",
      "            0.6324555320336758\n",
      "                  0.31622776601683794\n",
      "                  0.5477225575051661\n",
      "            0.5477225575051661\n",
      "                  0.4472135954999579\n",
      "                  0.31622776601683794\n"
     ]
    },
    {
     "data": {
      "text/plain": [
       "[np.float64(1.9823131728623846),\n",
       " np.float64(1.9106332362490186),\n",
       " np.float64(1.0471975511965976),\n",
       " np.float64(1.9823131728623846),\n",
       " np.float64(2.0943951023931957),\n",
       " np.float64(1.4274487578895316),\n",
       " np.float64(1.230959417340775)]"
      ]
     },
     "execution_count": 20,
     "metadata": {},
     "output_type": "execute_result"
    }
   ],
   "source": [
    "def compute_angles(root):\n",
    "    height = 1\n",
    "    curr = root\n",
    "\n",
    "    while curr.left is not None:\n",
    "        height += 1\n",
    "        curr = curr.left\n",
    "\n",
    "    angles = []\n",
    "    # inorder traverse the tree up to and including the second-to-last level\n",
    "    def iterate(node, level):\n",
    "\n",
    "        if level == height - 1:\n",
    "            return\n",
    "        \n",
    "        iterate(node.left, level + 1)\n",
    "\n",
    "        if node.left.value > 0:\n",
    "            angles.append(2 * np.arcsin(node.right.value / node.value))\n",
    "        else:\n",
    "            angles.append(2 * np.pi - 2 * np.arcsin(node.right.value / node.value))\n",
    "\n",
    "        iterate(node.right, level + 1)\n",
    "\n",
    "    \n",
    "    iterate(root, 0)\n",
    "\n",
    "    return angles\n",
    "        \n",
    "sqrt_list = np.sqrt([0.03, 0.07, 0.15, 0.05, 0.1, 0.3, 0.2, 0.1]).tolist()\n",
    "print_tree(build_tree(normalize_sample(sqrt_list)))\n",
    "compute_angles(build_tree(normalize_sample(sqrt_list)))"
   ]
  },
  {
   "cell_type": "markdown",
   "id": "f6663b30",
   "metadata": {},
   "source": [
    "Now we build the circuit from these angles. "
   ]
  },
  {
   "cell_type": "code",
   "execution_count": null,
   "id": "7dde8b09",
   "metadata": {},
   "outputs": [
    {
     "name": "stdout",
     "output_type": "stream",
     "text": [
      "[0, 1]\n"
     ]
    }
   ],
   "source": [
    "def _level(index):\n",
    "    return int(np.floor(np.log2(index + 1))) # e.g. 0 -> 0, 1 -> 1, 2 -> 1, 3 -> 2, 4 -> 2, 5 -> 2, 6 -> 2, 7 -> 2, 8 -> 3, etc.\n",
    "\n",
    "def _ctrl_state_to_binary_list(index, num_bits):\n",
    "    return [int(bit) for bit in bin(index)[2:].zfill(num_bits)]\n",
    "\n",
    "print(_ctrl_state_to_binary_list(1, 2))\n",
    "\n",
    "@qml.qnode(dev)\n",
    "def build_circuit(angles):\n",
    "    for i in range(len(angles)):\n",
    "        angle = angles[i]\n",
    "\n",
    "        ctrl_state = i - (2 ** _level(i) - 1)\n",
    "\n",
    "        if i > 0:\n",
    "\n",
    "            qml.ctrl(qml.RY, control=list(range(_level(i))), control_values=_ctrl_state_to_binary_list(ctrl_state, _level(i)))(angle, wires=_level(i))\n",
    "        else:\n",
    "            qml.RY(angle, wires=0)\n",
    "\n",
    "    return qml.state()\n"
   ]
  },
  {
   "cell_type": "code",
   "execution_count": 33,
   "id": "85bc21eb",
   "metadata": {},
   "outputs": [
    {
     "data": {
      "text/plain": [
       "(<Figure size 600x300 with 1 Axes>, <Axes: >)"
      ]
     },
     "execution_count": 33,
     "metadata": {},
     "output_type": "execute_result"
    },
    {
     "data": {
      "image/png": "[encoded data removed]",
      "text/plain": [
       "<Figure size 600x300 with 1 Axes>"
      ]
     },
     "metadata": {},
     "output_type": "display_data"
    }
   ],
   "source": [
    "angles = compute_angles(build_tree(normalize_sample(x)))\n",
    "state = build_circuit(angles)\n",
    "qml.draw_mpl(build_circuit)(angles)"
   ]
  },
  {
   "cell_type": "markdown",
   "id": "dccc91ef",
   "metadata": {},
   "source": [
    "As we can see, the normalized sample $X$ was encoded into the amplitude vector of the quantum circuit after the state preparation circuit:"
   ]
  },
  {
   "cell_type": "code",
   "execution_count": 36,
   "id": "3ac23566",
   "metadata": {},
   "outputs": [
    {
     "data": {
      "text/plain": [
       "([0.16012815380508713,\n",
       "  0.48038446141526137,\n",
       "  0.32025630761017426,\n",
       "  -0.8006407690254357],\n",
       " array([ 0.16012815+0.j,  0.        +0.j,  0.        +0.j,  0.        +0.j,\n",
       "         0.27268842+0.j,  0.        +0.j,  0.        +0.j,  0.        +0.j,\n",
       "         0.35233213+0.j,  0.        +0.j,  0.        +0.j,  0.        +0.j,\n",
       "        -0.88083033+0.j,  0.        +0.j,  0.        +0.j,  0.        +0.j]))"
      ]
     },
     "execution_count": 36,
     "metadata": {},
     "output_type": "execute_result"
    }
   ],
   "source": [
    "(normalize_sample(x), state)"
   ]
  },
  {
   "cell_type": "code",
   "execution_count": null,
   "id": "ab86d838",
   "metadata": {},
   "outputs": [],
   "source": []
  }
 ],
 "metadata": {
  "kernelspec": {
   "display_name": "venv",
   "language": "python",
   "name": "python3"
  },
  "language_info": {
   "codemirror_mode": {
    "name": "ipython",
    "version": 3
   },
   "file_extension": ".py",
   "mimetype": "text/x-python",
   "name": "python",
   "nbconvert_exporter": "python",
   "pygments_lexer": "ipython3",
   "version": "3.13.4"
  }
 },
 "nbformat": 4,
 "nbformat_minor": 5
}
