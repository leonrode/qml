{
 "cells": [
  {
   "cell_type": "markdown",
   "id": "630d8ab1",
   "metadata": {},
   "source": [
    "# Data Encoding\n",
    "\n",
    "This notebook contains the code related to the data-encoding project. More details are in the `README.md`. Much of the below language is taken directly from the authors of the paper given in the `README.md`.\n",
    "\n",
    "## Notation\n",
    "\n",
    "$D=(x^d, y^d)_{d=1}^m$ represents a classical data set, where $m$ is the number of samples, $x^d \\in \\mathbb{R}^N$ is an $N$-dimensional input data point (sample) and $y^d$ is the label for the corresponding sample."
   ]
  },
  {
   "cell_type": "markdown",
   "id": "68606cc0",
   "metadata": {},
   "source": [
    "For the purposes of this notebook, we will encode the following 4-dimensional data point. \n",
    "\n",
    "$$x = [0.1, 0.3, 0.2, -0.5]$$"
   ]
  },
  {
   "cell_type": "code",
   "execution_count": 7,
   "id": "abfaa238",
   "metadata": {},
   "outputs": [],
   "source": [
    "x = [0.1, 0.3, 0.2, -0.5]"
   ]
  },
  {
   "cell_type": "code",
   "execution_count": 15,
   "id": "5fa7e519",
   "metadata": {},
   "outputs": [],
   "source": [
    "import pennylane as qml\n",
    "import numpy as np"
   ]
  },
  {
   "cell_type": "markdown",
   "id": "35b7b0e7",
   "metadata": {},
   "source": [
    "## Angle encoding\n",
    "\n",
    "### Simple Angle Encoding\n",
    "\n",
    "For a data point (sample) $x^d$, the angle encoding method uses rotation gates ($R_x$ and $R_y$) whose angles correspond to the fields of $x^d$.\n",
    "\n",
    "$x^d$ is encoded into $$\\ket{\\psi^d}=\\bigotimes_{j=1}^{N} \\ket{\\psi_j^d}$$\n",
    "\n",
    "where $\\ket{\\psi_j}$ is given by $$\\ket{\\psi_j} = R_x(x_j)\\ket{0} = \\cos \\frac{x_j}{2} \\ket{0} - i \\sin \\frac{x_j}{2} \\ket{1}$$ or \n",
    "\n",
    "$$\\ket{\\psi_j} = R_y(x_j)\\ket{0} = \\cos \\frac{x_j}{2} \\ket{0} + \\sin \\frac{x_j}{2} \\ket{1}$$\n",
    "\n",
    "depending on if $R_x$ or $R_y$ is used.\n",
    "\n",
    "\n",
    "\n"
   ]
  },
  {
   "cell_type": "markdown",
   "id": "2d80d9d0",
   "metadata": {},
   "source": [
    "So for each $x_j$ we apply a rotation gate onto a qubit. Thus we need 4-qubits to encode this state."
   ]
  },
  {
   "cell_type": "code",
   "execution_count": 2,
   "id": "2820761a",
   "metadata": {},
   "outputs": [],
   "source": [
    "dev = qml.device(\"default.qubit\", wires=4)"
   ]
  },
  {
   "cell_type": "code",
   "execution_count": null,
   "id": "9b93361b",
   "metadata": {},
   "outputs": [],
   "source": [
    "@qml.qnode(dev)\n",
    "def simple_angle_encoding(x, rotator=\"RX\"):\n",
    "    op = qml.RY if rotator == \"RY\" else qml.RX\n",
    "    for i in range(len(x)):\n",
    "        op(x[i], wires=i)\n",
    "    \n",
    "    return qml.state()"
   ]
  },
  {
   "cell_type": "markdown",
   "id": "a9a68544",
   "metadata": {},
   "source": [
    "Testing the Simple Angle Encoding function with $R_Y$:"
   ]
  },
  {
   "cell_type": "code",
   "execution_count": null,
   "id": "e206ddc1",
   "metadata": {},
   "outputs": [
    {
     "name": "stdout",
     "output_type": "stream",
     "text": [
      "0: ──RY(0.10)──┤  State\n",
      "1: ──RY(0.30)──┤  State\n",
      "2: ──RY(0.20)──┤  State\n",
      "3: ──RY(-0.50)─┤  State\n"
     ]
    }
   ],
   "source": [
    "print(qml.draw(simple_angle_encoding)(x, rotator=\"RY\"))"
   ]
  },
  {
   "cell_type": "code",
   "execution_count": null,
   "id": "e19ca67f",
   "metadata": {},
   "outputs": [
    {
     "data": {
      "text/plain": [
       "array([ 9.52055097e-01+0.j, -2.43099578e-01+0.j,  9.55241360e-02+0.j,\n",
       "       -2.43913164e-02+0.j,  1.43889055e-01+0.j, -3.67409077e-02+0.j,\n",
       "        1.44370611e-02+0.j, -3.68638692e-03+0.j,  4.76424635e-02+0.j,\n",
       "       -1.21651182e-02+0.j,  4.78019096e-03+0.j, -1.22058314e-03+0.j,\n",
       "        7.20045412e-03+0.j, -1.83857779e-03+0.j,  7.22455203e-04+0.j,\n",
       "       -1.84473099e-04+0.j])"
      ]
     },
     "execution_count": 14,
     "metadata": {},
     "output_type": "execute_result"
    }
   ],
   "source": [
    "simple_angle_encoding(x, rotator=\"RY\")"
   ]
  },
  {
   "cell_type": "markdown",
   "id": "4763664d",
   "metadata": {},
   "source": [
    "Now with $R_X$"
   ]
  },
  {
   "cell_type": "code",
   "execution_count": null,
   "id": "3a54d452",
   "metadata": {},
   "outputs": [
    {
     "name": "stdout",
     "output_type": "stream",
     "text": [
      "0: ──RX(0.10)──┤  State\n",
      "1: ──RX(0.30)──┤  State\n",
      "2: ──RX(0.20)──┤  State\n",
      "3: ──RX(-0.50)─┤  State\n"
     ]
    }
   ],
   "source": [
    "print(qml.draw(simple_angle_encoding)(x, rotator=\"RX\"))"
   ]
  },
  {
   "cell_type": "code",
   "execution_count": null,
   "id": "0fd33c25",
   "metadata": {},
   "outputs": [
    {
     "data": {
      "text/plain": [
       "array([ 9.52055097e-01+0.j        ,  0.00000000e+00+0.24309958j,\n",
       "        0.00000000e+00-0.09552414j,  2.43913164e-02+0.j        ,\n",
       "        0.00000000e+00-0.14388905j,  3.67409077e-02+0.j        ,\n",
       "       -1.44370611e-02+0.j        ,  0.00000000e+00-0.00368639j,\n",
       "        0.00000000e+00-0.04764246j,  1.21651182e-02+0.j        ,\n",
       "       -4.78019096e-03+0.j        ,  0.00000000e+00-0.00122058j,\n",
       "       -7.20045412e-03+0.j        ,  0.00000000e+00-0.00183858j,\n",
       "        0.00000000e+00+0.00072246j, -1.84473099e-04+0.j        ])"
      ]
     },
     "execution_count": 13,
     "metadata": {},
     "output_type": "execute_result"
    }
   ],
   "source": [
    "simple_angle_encoding(x, rotator=\"RX\")"
   ]
  },
  {
   "cell_type": "markdown",
   "id": "fce3df9d",
   "metadata": {},
   "source": [
    "### $\\frac{\\pi}{4}$-Angle encoding\n",
    "\n",
    "This encoding method uses the Walsh-Hadamard operator and a unitary given by the following\n",
    "\n",
    "$$U(x) = \\begin{pmatrix}\n",
    "\\cos (\\frac{\\pi}{4} - x) & \\sin(\\frac{\\pi}{4} - x) \\\\ \n",
    "-\\sin(\\frac{\\pi}{4} - x) & \\cos(\\frac{\\pi}{4} - x)\n",
    "\n",
    "\n",
    "\\end{pmatrix}$$\n",
    "\n",
    "where each qubit $\\ket{\\psi_j}=U(x_j)H\\ket{0}$. The result of this is given by $\\ket{\\psi_j} = \\cos x_j \\ket{0} + \\sin x_j \\ket{1}$, in which the input to the trigonometric functions are halved in contrast to the Simple Angle Encoding method that uses $R_Y$."
   ]
  },
  {
   "cell_type": "code",
   "execution_count": 19,
   "id": "98d7c70c",
   "metadata": {},
   "outputs": [],
   "source": [
    "def _construct_Uj(xj):\n",
    "    return [\n",
    "            [np.cos(np.pi/4 - xj), np.sin(np.pi/4 - xj)],\n",
    "            [-np.sin(np.pi/4 - xj), np.cos(np.pi/4 - xj)]\n",
    "        ]\n",
    "\n",
    "@qml.qnode(dev)\n",
    "def pi_4_angle_encoding(x):\n",
    "    for i in range(len(x)):\n",
    "        qml.Hadamard(i)\n",
    "        qml.QubitUnitary(_construct_Uj(x[i]), wires=i)\n",
    "\n",
    "    return qml.state()"
   ]
  },
  {
   "cell_type": "code",
   "execution_count": 22,
   "id": "b52e9972",
   "metadata": {},
   "outputs": [
    {
     "name": "stdout",
     "output_type": "stream",
     "text": [
      "0: ──H──U(M0)─┤  State\n",
      "1: ──H──U(M1)─┤  State\n",
      "2: ──H──U(M2)─┤  State\n",
      "3: ──H──U(M3)─┤  State\n",
      "\n",
      "M0 = \n",
      "[[ 0.77416708  0.63298131]\n",
      " [-0.63298131  0.77416708]]\n",
      "M1 = \n",
      "[[ 0.88448925  0.46656057]\n",
      " [-0.46656057  0.88448925]]\n",
      "M2 = \n",
      "[[ 0.83349215  0.55253129]\n",
      " [-0.55253129  0.83349215]]\n",
      "M3 = \n",
      "[[ 0.28153953  0.95954963]\n",
      " [-0.95954963  0.28153953]]\n"
     ]
    }
   ],
   "source": [
    "print(qml.draw(pi_4_angle_encoding)(x))"
   ]
  },
  {
   "cell_type": "code",
   "execution_count": 20,
   "id": "70b87653",
   "metadata": {},
   "outputs": [
    {
     "data": {
      "text/plain": [
       "array([ 0.81756978+0.j, -0.44664041+0.j,  0.1657296 +0.j, -0.09053849+0.j,\n",
       "        0.25290397+0.j, -0.13816207+0.j,  0.05126617+0.j, -0.02800684+0.j,\n",
       "        0.0820306 +0.j, -0.04481352+0.j,  0.01662842+0.j, -0.00908415+0.j,\n",
       "        0.02537504+0.j, -0.01386245+0.j,  0.00514377+0.j, -0.00281006+0.j])"
      ]
     },
     "execution_count": 20,
     "metadata": {},
     "output_type": "execute_result"
    }
   ],
   "source": [
    "pi_4_angle_encoding(x)"
   ]
  },
  {
   "cell_type": "markdown",
   "id": "aebfb981",
   "metadata": {},
   "source": [
    "### Entangled Angle Encoding\n",
    "\n",
    "Entangled Angle Encoding builds on Simple Angle Encoding by adding CNOT between each pair of adjacent qubits."
   ]
  },
  {
   "cell_type": "code",
   "execution_count": 30,
   "id": "06922281",
   "metadata": {},
   "outputs": [],
   "source": [
    "def _simple_angle_encoding_no_return(x, rotator=\"RX\"):\n",
    "    op = qml.RY if rotator == \"RY\" else qml.RX\n",
    "    for i in range(len(x)):\n",
    "        op(x[i], wires=i)\n",
    "\n",
    "\n",
    "\n",
    "@qml.qnode(dev)\n",
    "def entangled_angle_encoding(x, rotator=\"RX\"):\n",
    "    _simple_angle_encoding_no_return(x, rotator)\n",
    "    for i in range(len(x) - 1):\n",
    "        qml.CNOT(wires=[i, i + 1])\n",
    "    \n",
    "    qml.CNOT(wires=[len(x) - 1, 0])\n",
    "\n",
    "    return qml.state()"
   ]
  },
  {
   "cell_type": "code",
   "execution_count": 31,
   "id": "2b868294",
   "metadata": {},
   "outputs": [
    {
     "name": "stdout",
     "output_type": "stream",
     "text": [
      "0: ──RX(0.10)──╭●───────╭X─┤  State\n",
      "1: ──RX(0.30)──╰X─╭●────│──┤  State\n",
      "2: ──RX(0.20)─────╰X─╭●─│──┤  State\n",
      "3: ──RX(-0.50)───────╰X─╰●─┤  State\n"
     ]
    }
   ],
   "source": [
    "print(qml.draw(entangled_angle_encoding)(x))"
   ]
  },
  {
   "cell_type": "code",
   "execution_count": 32,
   "id": "5619bac0",
   "metadata": {},
   "outputs": [
    {
     "data": {
      "text/plain": [
       "array([ 9.52055097e-01+0.j        ,  0.00000000e+00-0.00183858j,\n",
       "        2.43913164e-02+0.j        ,  0.00000000e+00+0.00072246j,\n",
       "       -1.44370611e-02+0.j        ,  0.00000000e+00-0.00122058j,\n",
       "        3.67409077e-02+0.j        ,  0.00000000e+00-0.04764246j,\n",
       "       -7.20045412e-03+0.j        ,  0.00000000e+00+0.24309958j,\n",
       "       -1.84473099e-04+0.j        ,  0.00000000e+00-0.09552414j,\n",
       "       -4.78019096e-03+0.j        ,  0.00000000e+00-0.00368639j,\n",
       "        1.21651182e-02+0.j        ,  0.00000000e+00-0.14388905j])"
      ]
     },
     "execution_count": 32,
     "metadata": {},
     "output_type": "execute_result"
    }
   ],
   "source": [
    "entangled_angle_encoding(x)"
   ]
  },
  {
   "cell_type": "code",
   "execution_count": 33,
   "id": "077e2947",
   "metadata": {},
   "outputs": [
    {
     "name": "stdout",
     "output_type": "stream",
     "text": [
      "0: ──RY(0.10)──╭●───────╭X─┤  State\n",
      "1: ──RY(0.30)──╰X─╭●────│──┤  State\n",
      "2: ──RY(0.20)─────╰X─╭●─│──┤  State\n",
      "3: ──RY(-0.50)───────╰X─╰●─┤  State\n"
     ]
    }
   ],
   "source": [
    "print(qml.draw(entangled_angle_encoding)(x, rotator=\"RY\"))"
   ]
  },
  {
   "cell_type": "code",
   "execution_count": 34,
   "id": "5937fc1f",
   "metadata": {},
   "outputs": [
    {
     "data": {
      "text/plain": [
       "array([ 9.52055097e-01+0.j, -1.83857779e-03+0.j, -2.43913164e-02+0.j,\n",
       "        7.22455203e-04+0.j,  1.44370611e-02+0.j, -1.22058314e-03+0.j,\n",
       "       -3.67409077e-02+0.j,  4.76424635e-02+0.j,  7.20045412e-03+0.j,\n",
       "       -2.43099578e-01+0.j, -1.84473099e-04+0.j,  9.55241360e-02+0.j,\n",
       "        4.78019096e-03+0.j, -3.68638692e-03+0.j, -1.21651182e-02+0.j,\n",
       "        1.43889055e-01+0.j])"
      ]
     },
     "execution_count": 34,
     "metadata": {},
     "output_type": "execute_result"
    }
   ],
   "source": [
    "entangled_angle_encoding(x, rotator=\"RY\")"
   ]
  },
  {
   "cell_type": "markdown",
   "id": "29e8e931",
   "metadata": {},
   "source": []
  }
 ],
 "metadata": {
  "kernelspec": {
   "display_name": "venv",
   "language": "python",
   "name": "python3"
  },
  "language_info": {
   "codemirror_mode": {
    "name": "ipython",
    "version": 3
   },
   "file_extension": ".py",
   "mimetype": "text/x-python",
   "name": "python",
   "nbconvert_exporter": "python",
   "pygments_lexer": "ipython3",
   "version": "3.13.4"
  }
 },
 "nbformat": 4,
 "nbformat_minor": 5
}
