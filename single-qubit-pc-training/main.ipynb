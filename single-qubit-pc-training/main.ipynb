{
 "cells": [
  {
   "cell_type": "markdown",
   "id": "470c104d",
   "metadata": {},
   "source": [
    "# Single Qubit Parametrized Circuit Training\n",
    "\n",
    "In this project we train a parametrized circuit to first turn an $\\ket{0}$ state into a $\\ket{1}$ state, then a $\\ket{\\psi}$ state into $\\ket{1}$ by training the parameter ($\\theta$) of a single $R_Y$ gate and using gradient descent.\n",
    "\n",
    "We use the cost function $$C_\\psi(\\theta)=\\langle(R_Y(\\theta)\\ket{\\psi})|Z|(R_Y(\\theta)\\ket{\\psi})\\rangle,$$ that is, the expectation value of the Pauli Z operator after applying $R_Y$ to an initial state $\\ket{\\psi}$. In the first part of this notebook, we let $\\ket{\\psi}=\\ket{0}$, and in the second part, we choose a random $\\ket{\\psi}$ and let the training occur."
   ]
  },
  {
   "cell_type": "markdown",
   "id": "54e5db84",
   "metadata": {},
   "source": [
    "## Preliminaries\n",
    "\n",
    "### The Cost Function\n",
    "\n",
    "The expression $$C_\\psi(\\theta)=\\langle(R_Y(\\theta)\\ket{\\psi})|Z|(R_Y(\\theta)\\ket{\\psi})\\rangle$$ is minimized (equals -1) when $R_Y(\\theta)\\ket{\\psi}$ is closest to $\\ket{1}$, making it a suitable candidate for a cost function.\n",
    "\n",
    "### Gradient Descent\n",
    "\n",
    "Gradient Descent works by changing the parameter(s), in this case $\\theta$, by an amount given by the gradient of the cost function along with some learning rate $\\eta$. In our case, where we have only one parameter $\\theta$ and therefore cost function is univariate, the gradient simplifies to simply the ordinary derivative of $C(\\theta)$ with respect to $\\theta$.\n",
    "\n",
    "We compute the derivative of $C(\\theta)$ by hand by letting $\\ket{\\psi}=\\alpha\\ket{0}+\\beta\\ket{1}$, where $\\alpha,\\beta\\in\\mathbb{C}$ and expanding the inner products.\n",
    "\n",
    "First we compute $R_Y(\\theta)\\ket{\\psi}=\\ket{\\gamma}$:\n",
    "\n",
    "$$\n",
    "\\begin{align}\n",
    "R_Y(\\theta)\\ket{\\psi} = \\ket{\\gamma} &= \\begin{pmatrix}\\cos \\theta/2 & -\\sin \\theta / 2 \\\\ \\sin \\theta/2 & \\cos \\theta/2\\end{pmatrix}\\begin{pmatrix}\\alpha \\\\ \\beta\\end{pmatrix} \\\\\n",
    "&= \\begin{pmatrix}\\alpha \\cos \\theta/2 - \\beta \\sin \\theta/2 \\\\ \\alpha \\sin \\theta/2 + \\beta \\cos \\theta/2\\end{pmatrix}\n",
    "\\end{align}\n",
    "$$\n",
    "\n",
    "Then $\\bra{\\gamma}$ is simply \n",
    "\n",
    "$$\n",
    "\\bra{\\gamma} = \\begin{pmatrix}\\alpha^\\ast \\cos \\theta/2 - \\beta^\\ast \\sin \\theta/2 & \\alpha^\\ast \\sin \\theta/2 + \\beta^\\ast \\cos \\theta/2\\end{pmatrix}\n",
    "$$\n",
    "\n",
    "Thus $\\langle \\gamma | Z | \\gamma \\rangle$ is given by \n",
    "\n",
    "$$\n",
    "\\begin{align}\n",
    "\\langle \\gamma | Z | \\gamma \\rangle &= \\begin{pmatrix}\\alpha^\\ast \\cos \\theta/2 - \\beta^\\ast \\sin \\theta/2 & \\alpha^\\ast \\sin \\theta/2 + \\beta^\\ast \\cos \\theta/2\\end{pmatrix} \\begin{pmatrix}1 & 0 \\\\ 0 & -1\\end{pmatrix}\\begin{pmatrix}\\alpha \\cos \\theta/2 - \\beta \\sin \\theta/2 \\\\ \\alpha \\sin \\theta/2 + \\beta \\cos \\theta/2\\end{pmatrix} \\\\\n",
    "\n",
    "&= \\begin{pmatrix}\\alpha^\\ast \\cos \\theta/2 - \\beta^\\ast \\sin \\theta/2 & \\alpha^\\ast \\sin \\theta/2 + \\beta^\\ast \\cos \\theta/2\\end{pmatrix}\\begin{pmatrix}\\alpha \\cos \\theta/2 - \\beta \\sin \\theta/2 \\\\ -\\alpha \\sin \\theta/2 -\\beta \\cos \\theta/2\\end{pmatrix} \\\\ \n",
    "&= |\\alpha|^2(\\cos^2 \\theta/2 -\\sin^2 \\theta/2) - 2\\alpha^\\ast \\beta \\cos \\theta/2 \\sin \\theta/2 + |\\beta|^2(\\sin^2 \\theta/2 - \\cos^2 \\theta/2)\n",
    "\\end{align}\n",
    "$$\n",
    "\n",
    "where $zz^\\ast = |z|^2, z\\in\\mathbb{C}$.\n",
    "\n",
    "Now we have found our cost function $C(\\theta)=|\\alpha|^2(\\cos^2 \\theta/2 -\\sin^2 \\theta/2) - 2\\alpha^\\ast \\beta \\cos \\theta/2 \\sin \\theta/2 + |\\beta|^2(\\sin^2 \\theta/2 - \\cos^2 \\theta/2)$, and we must take its derivative with respect to $\\theta$. After carrying out this computation, we get\n",
    "\n",
    "$$\n",
    "C'(\\theta) = -2|\\alpha|^2\\sin \\theta/2 \\cos\\theta/2 -\\alpha^\\ast\\beta(\\cos^2\\theta/2-\\sin^2\\theta/2)+2|\\beta|^2\\sin\\theta/2\\cos\\theta/2\n",
    "$$\n",
    "\n",
    "Using this, we can define our update rule which will be the basis of our algorithm:\n",
    "\n",
    "$$\n",
    "\\theta_{\\text{new}} = \\theta_{\\text{old}} - \\eta C'(\\theta_{\\text{old}})\n",
    "$$"
   ]
  },
  {
   "cell_type": "code",
   "execution_count": 3,
   "id": "a4dd1306",
   "metadata": {},
   "outputs": [],
   "source": [
    "import pennylane as qml\n",
    "import numpy as np"
   ]
  },
  {
   "cell_type": "code",
   "execution_count": 4,
   "id": "3e7adbe3",
   "metadata": {},
   "outputs": [],
   "source": [
    "dev = qml.device(\"default.qubit\", wires=1)"
   ]
  },
  {
   "cell_type": "markdown",
   "id": "950788c9",
   "metadata": {},
   "source": [
    "### Circuit Definition\n",
    "\n",
    "We define a QNode `circuit` which takes in the rotation angle $\\theta$ and an optional initial state argument, which prepares the qubit before applying the rotation."
   ]
  },
  {
   "cell_type": "code",
   "execution_count": 94,
   "id": "489b954c",
   "metadata": {},
   "outputs": [],
   "source": [
    "@qml.qnode(dev)\n",
    "def circuit(theta, initial_state=[complex(1), complex(0)]):\n",
    "    if initial_state != [complex(1), complex(0)]:\n",
    "        qml.StatePrep(initial_state, wires=0)\n",
    "    qml.RY(theta, wires=0)\n",
    "    \n",
    "    return qml.state()"
   ]
  },
  {
   "cell_type": "markdown",
   "id": "f17ef990",
   "metadata": {},
   "source": [
    "### Functions\n",
    "\n",
    "Here we define the cost function $C(\\theta)$, the gradient (derivative) $C'(\\theta)$, and the update rule to compute the next value for $\\theta$."
   ]
  },
  {
   "cell_type": "code",
   "execution_count": 95,
   "id": "c0021303",
   "metadata": {},
   "outputs": [],
   "source": [
    "def cost_function(theta, alpha, beta):\n",
    "    return alpha**2*(np.cos(theta/2)**2 - np.sin(theta/2)**2) - 2*alpha.conjugate()*beta*np.cos(theta/2)*np.sin(theta/2) + beta**2*(np.sin(theta/2)**2 - np.cos(theta/2)**2)\n",
    "\n",
    "def gradient(theta, alpha, beta):\n",
    "    return -2*alpha**2*np.sin(theta/2)*np.cos(theta/2) - alpha.conjugate()*beta*(np.cos(theta/2)**2 - np.sin(theta/2)**2) + 2*beta**2*np.sin(theta/2)*np.cos(theta/2)\n",
    "\n",
    "def update_rule(theta, eta, state):\n",
    "    g = gradient(theta, state[0], state[1])\n",
    "    return (g, theta - eta*g)"
   ]
  },
  {
   "cell_type": "markdown",
   "id": "cbcd5056",
   "metadata": {},
   "source": [
    "### Training\n",
    "\n",
    "Here we run 150 iterations of the gradient descent algorithm, with a training rate $\\eta=0.1$, and an initial theta value of $\\theta=0.01$ radians. This cell outputs the final circuit including the corresponding $\\theta$. "
   ]
  },
  {
   "cell_type": "code",
   "execution_count": 98,
   "id": "f122afca",
   "metadata": {},
   "outputs": [
    {
     "data": {
      "image/png": "[encoded data removed]",
      "text/plain": [
       "<Figure size 400x200 with 1 Axes>"
      ]
     },
     "metadata": {},
     "output_type": "display_data"
    }
   ],
   "source": [
    "import matplotlib.pyplot as plt\n",
    "\n",
    "def run():\n",
    "    #initial_state = [complex(np.sqrt(0.5)), complex(np.sqrt(0.5))]\n",
    "    initial_state = [complex(1), complex(0)]\n",
    "    \n",
    "    theta = 0.01\n",
    "    eta = 0.1\n",
    "    iterations = 150\n",
    "    thetas = [None] * iterations\n",
    "    costs = [None] * iterations\n",
    "    for it_num in range(iterations):\n",
    "        circuit(theta, initial_state)\n",
    "        thetas[it_num] = theta.real\n",
    "        costs[it_num] = cost_function(theta, initial_state[0], initial_state[1])\n",
    "        _, theta = update_rule(theta.real, eta, initial_state)\n",
    "\n",
    "    qml.draw_mpl(circuit, decimals=2)(theta.real)\n",
    "\n",
    "    return iterations, thetas, costs\n",
    "iterations, thetas, costs = run()\n"
   ]
  },
  {
   "cell_type": "markdown",
   "id": "3b564895",
   "metadata": {},
   "source": [
    "### Cost Function vs Iteration \\#\n",
    "\n",
    "Here we plot how the value of the cost function $C(\\theta)$ changes over the iterations."
   ]
  },
  {
   "cell_type": "code",
   "execution_count": 100,
   "id": "a785dde4",
   "metadata": {},
   "outputs": [
    {
     "data": {
      "image/png": "[encoded data removed]",
      "text/plain": [
       "<Figure size 640x480 with 1 Axes>"
      ]
     },
     "metadata": {},
     "output_type": "display_data"
    }
   ],
   "source": [
    "# Plot the cost function vs epoch number\n",
    "plt.plot(np.linspace(0, iterations, iterations), costs, label=\"Cost Function\")\n",
    "plt.xlabel(\"Iteration #\")\n",
    "plt.ylabel(\"Cost\")\n",
    "plt.title(\"Cost Function vs Iteration #\")\n",
    "plt.legend()\n",
    "plt.show()"
   ]
  },
  {
   "cell_type": "markdown",
   "id": "37002dd2",
   "metadata": {},
   "source": [
    "Feel free to change the initial state, the number of epochs, the learning rate, etc, to see how the cost function changes."
   ]
  }
 ],
 "metadata": {
  "kernelspec": {
   "display_name": "venv",
   "language": "python",
   "name": "python3"
  },
  "language_info": {
   "codemirror_mode": {
    "name": "ipython",
    "version": 3
   },
   "file_extension": ".py",
   "mimetype": "text/x-python",
   "name": "python",
   "nbconvert_exporter": "python",
   "pygments_lexer": "ipython3",
   "version": "3.13.4"
  }
 },
 "nbformat": 4,
 "nbformat_minor": 5
}
